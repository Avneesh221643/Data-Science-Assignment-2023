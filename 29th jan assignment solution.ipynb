{
 "cells": [
  {
   "cell_type": "code",
   "execution_count": 1,
   "id": "60fd022b-459c-4fa7-aed2-ba9539ebd10a",
   "metadata": {
    "tags": []
   },
   "outputs": [],
   "source": [
    "#Q1: Who developed python programming language?\n",
    "\n",
    "#Ans: Guido van Rossum is a Dutch programmer best known as the creator of the Python programming language,in 20 feb 1991\n",
    "#     for which he was the \"benevolent dictator for life\" until he stepped down from the position on 12 July 2018."
   ]
  },
  {
   "cell_type": "code",
   "execution_count": 2,
   "id": "9f6cd843-63ae-48f3-acbc-22a13cab2216",
   "metadata": {},
   "outputs": [],
   "source": [
    "#Q2: Which type of programming python does support?\n",
    "\n",
    "#Ans: Python is a intrepreted language and its support object oriented,functional,structural programming,\n",
    "#     Python, by contrast, does support functional programming but contains features of other programming models as well."
   ]
  },
  {
   "cell_type": "code",
   "execution_count": 3,
   "id": "599fa2ec-1127-476f-9822-9e9186ca37be",
   "metadata": {},
   "outputs": [],
   "source": [
    "#Q3:    Is python case sensitive when dealing with identifiers?\n",
    "\n",
    "#Ans:  Yes, Python is a case-sensitive language, i.e., it treats uppercase and lowercase characters differently.\n",
    "#      This applies to identifiers too. You must avoid using the same name with different cases while naming identifiers."
   ]
  },
  {
   "cell_type": "code",
   "execution_count": 4,
   "id": "834947b9-e4bb-4908-a8cb-8db9bacd66b0",
   "metadata": {},
   "outputs": [],
   "source": [
    "#Q4: What is the correct extension of the python file?\n",
    "\n",
    "#Ans:  .py Python is a widely used programming or coding language used for different purposes. The extensions for Python files are - . py, . pyi, ."
   ]
  },
  {
   "cell_type": "code",
   "execution_count": 5,
   "id": "7812f09e-6cd5-44b3-89de-9331317d8cac",
   "metadata": {},
   "outputs": [],
   "source": [
    "#Q5: Is python code compiled or interpreted?\n",
    "\n",
    "#Ans:Python is an interpreted language, which means the source code of a Python program is converted into bytecode that is then executed by \n",
    "#    the Python virtual machine.  Python is different from major compiled languages, such as C and C + +,   as Python code is not required to be built\n",
    "#    and linked like code for these languages."
   ]
  },
  {
   "cell_type": "code",
   "execution_count": 6,
   "id": "07a5578a-0281-4f21-9f2c-dbdca2e97001",
   "metadata": {},
   "outputs": [],
   "source": [
    "#Q6:  Name a few block of code used to define python language?\n",
    "\n",
    "#Ans: Indentation is used to define a block of code in python. Braces {} are used to define a block of code in most programming languages,\n",
    "#     like C, C++, and Java. But this indentation makes python unique among all programming languages."
   ]
  },
  {
   "cell_type": "code",
   "execution_count": 7,
   "id": "7725dabc-42da-42de-9a0c-cf75828ff98b",
   "metadata": {},
   "outputs": [],
   "source": [
    "#Q7: State a character used to give a single line comment in pyhton?\n",
    "#Ans: '#' is used to give single line comment in python but it is also used for multiple line line comment in python,"
   ]
  },
  {
   "cell_type": "code",
   "execution_count": 17,
   "id": "a082b135-12e1-4514-8aef-e04fa2bd82ca",
   "metadata": {},
   "outputs": [
    {
     "name": "stdout",
     "output_type": "stream",
     "text": [
      "User Current Version:- 3.10.8 | packaged by conda-forge | (main, Nov 22 2022, 08:26:04) [GCC 10.4.0]\n"
     ]
    }
   ],
   "source": [
    "#Q8: Mention function which can help us to find the  version of python that we are currently working on?\n",
    "\n",
    "#Ans: The function sys. version can help us to find the version of python that we are currently working on.\n",
    "# for example:\n",
    "import sys\n",
    "\n",
    "\n",
    "print(\"User Current Version:-\", sys.version)\n"
   ]
  },
  {
   "cell_type": "code",
   "execution_count": 18,
   "id": "c8ed30ce-a503-4532-a45a-7ea1b4971b2a",
   "metadata": {},
   "outputs": [],
   "source": [
    "#Q9: Python supports the creation of anonymous functions at runtime, using a construct called__________?\n",
    "\n",
    "#Ans: 'Lambda' function."
   ]
  },
  {
   "cell_type": "code",
   "execution_count": 19,
   "id": "7e6c2496-a161-4e27-8eba-42d67c10ed44",
   "metadata": {},
   "outputs": [],
   "source": [
    "#Q10:  What does pip stand for python?\n",
    "\n",
    "#Ans:  preferred installer program,Alternatively, pip stands for \"preferred installer program\". Python 2.7. 9 and later (on the python2 series), and \n",
    "#      Python 3.4 and later include pip (pip3 for Python 3) by default."
   ]
  },
  {
   "cell_type": "code",
   "execution_count": 20,
   "id": "bccfdc8c-5db1-4968-9707-564fabfd1ddb",
   "metadata": {},
   "outputs": [],
   "source": [
    "#Q11: Mention a few built function in python?\n",
    "\n",
    "#Ans: print( ) function,type( ) function,input( ) function,abs( ) function,pow( ) function,dir( ) function,sorted( ) function,max( ) function many more."
   ]
  },
  {
   "cell_type": "code",
   "execution_count": 21,
   "id": "09caa1ca-e501-4589-8403-8c5c118cf4f0",
   "metadata": {},
   "outputs": [],
   "source": [
    "#Q12: What is the maximum length of a python identifier?\n",
    "\n",
    "#Ans: An identifier can have a maximum length of 79 characters in Python. Python is one of the most popular programming languages."
   ]
  },
  {
   "cell_type": "code",
   "execution_count": 22,
   "id": "ac7db531-56a8-42db-a756-d9f8aa50ad0a",
   "metadata": {},
   "outputs": [],
   "source": [
    "#Q13: What is the benefit of using python?\n",
    "\n",
    "#Ans: Over 125,000 third-party Python libraries exist that enable you to use Python for machine learning, web processing, and even biology. Also,\n",
    "#     its data-focused libraries like pandas, NumPy, and matplotlib make it very capable of processing, manipulating, and visualizing data "
   ]
  },
  {
   "cell_type": "code",
   "execution_count": 23,
   "id": "61d7f86d-ac32-4976-98aa-8239c15b6edf",
   "metadata": {},
   "outputs": [],
   "source": [
    "#Q14: How is memory managed in python?\n",
    "\n",
    "#Ans: Memory management in Python involves a private heap containing all Python objects and data structures. \n",
    "#     The management of this private heap is ensured internally by the Python memory manager."
   ]
  },
  {
   "cell_type": "code",
   "execution_count": 24,
   "id": "64f1b934-dabe-4d0e-be3e-f5fccab430a5",
   "metadata": {},
   "outputs": [],
   "source": [
    "#Q15:  How to install python on windows and set path variable?\n",
    "\n",
    "#Ans: Right-clicking This PC and going to Properties.\n",
    "\n",
    "#1.Clicking on the Advanced system settings in the menu on the left.\n",
    "\n",
    "#2.Clicking on the Environment Variables button on the bottom right.\n",
    "\n",
    "#3.In the System variables section, selecting the Path variable and clicking on Edit. The next screen will show all the directories that are\n",
    "#  currently a part of the PATH variable.\n",
    "\n",
    "#4.Clicking on New and entering Python’s install directory.\n",
    "# Python can now be used directly from the command prompt without having to write its location. Try executing the command python --version;\n",
    "# it will output the version of Python installed on your system."
   ]
  },
  {
   "cell_type": "code",
   "execution_count": 27,
   "id": "118e2353-bda8-48ee-9e21-b099f4c5195e",
   "metadata": {},
   "outputs": [
    {
     "name": "stdout",
     "output_type": "stream",
     "text": [
      "1\n",
      "2\n",
      "3\n",
      "4\n",
      "5\n"
     ]
    }
   ],
   "source": [
    "#Q16: Is Identation required in python?\n",
    "\n",
    "#Ans: yes, identation is required for python it is use in for loop and many more function without identation your program will not work why that if you\n",
    "#     write condition and any word so you write a word in under the identation\n",
    "l=[1,2,3,4,5]\n",
    "for i in l:\n",
    "    print(i)"
   ]
  },
  {
   "cell_type": "code",
   "execution_count": null,
   "id": "9b8cb8c5-1d6e-4704-81e8-0bd0b7013881",
   "metadata": {},
   "outputs": [],
   "source": []
  }
 ],
 "metadata": {
  "kernelspec": {
   "display_name": "Python 3 (ipykernel)",
   "language": "python",
   "name": "python3"
  },
  "language_info": {
   "codemirror_mode": {
    "name": "ipython",
    "version": 3
   },
   "file_extension": ".py",
   "mimetype": "text/x-python",
   "name": "python",
   "nbconvert_exporter": "python",
   "pygments_lexer": "ipython3",
   "version": "3.10.8"
  }
 },
 "nbformat": 4,
 "nbformat_minor": 5
}
